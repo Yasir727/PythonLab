{
  "nbformat": 4,
  "nbformat_minor": 0,
  "metadata": {
    "colab": {
      "provenance": [],
      "include_colab_link": true
    },
    "kernelspec": {
      "name": "python3",
      "display_name": "Python 3"
    },
    "language_info": {
      "name": "python"
    }
  },
  "cells": [
    {
      "cell_type": "markdown",
      "metadata": {
        "id": "view-in-github",
        "colab_type": "text"
      },
      "source": [
        "<a href=\"https://colab.research.google.com/github/Yasir727/PythonLab/blob/main/20221BCA0264Functools_Module.ipynb\" target=\"_parent\"><img src=\"https://colab.research.google.com/assets/colab-badge.svg\" alt=\"Open In Colab\"/></a>"
      ]
    },
    {
      "cell_type": "markdown",
      "source": [
        "## ***Functools Module in Python***"
      ],
      "metadata": {
        "id": "GNhaEmhoGxPu"
      }
    },
    {
      "cell_type": "markdown",
      "source": [],
      "metadata": {
        "id": "sDjkT0C6HR_c"
      }
    },
    {
      "cell_type": "markdown",
      "source": [
        "Functools module is for higher-order functions that work on other functions.\n",
        "\n",
        "***It provides functions for working with other functions and callable objects to use or extend them without completely rewriting them. This module has two classes – partial and partialmethod.***"
      ],
      "metadata": {
        "id": "c6QFtCHZGwx0"
      }
    },
    {
      "cell_type": "markdown",
      "source": [],
      "metadata": {
        "id": "KCZrD-W5Q3On"
      }
    },
    {
      "cell_type": "markdown",
      "source": [
        "***A partial function ***:\n",
        "\n",
        " is an original function for particular argument values.\n",
        "They can be created in Python by using “partial” from the functools library. The __name__ and __doc__ attributes are to be created by the programmer as they are not created automatically.\n",
        "\n",
        "Objects created by partial() have three read-only attributes:\n",
        "\n",
        "Syntax:\n",
        "\n",
        "partial(func, /, *args, **keywords)\n",
        "\n",
        "partial.func – It returns the name of parent function along with hexadecimal address.\n",
        "\n",
        "partial.args – It returns the positional arguments provided in partial function.\n",
        "\n",
        "partial.keywords – It returns the keyword arguments provided in partial function."
      ],
      "metadata": {
        "id": "jpydigJxQLHf"
      }
    },
    {
      "cell_type": "code",
      "source": [
        "from functools import partial\n",
        "\n",
        "\n",
        "def power(a, b):\n",
        "\treturn a**b\n",
        "\n",
        "\n",
        "# partial functions\n",
        "pow2 = partial(power, b=3)\n",
        "pow4 = partial(power, b=3)\n",
        "power_of_5 = partial(power, 5)\n",
        "\n",
        "print(power(1, 3))\n",
        "print(pow2(4))\n",
        "print(pow4(3))\n",
        "print(power_of_5(3))\n",
        "\n",
        "print('Function used in partial function pow2 :', pow2.func)\n",
        "print('Default keywords for pow2 :', pow2.keywords)\n",
        "print('Default arguments for power_of_5 :', power_of_5.args)\n"
      ],
      "metadata": {
        "colab": {
          "base_uri": "https://localhost:8080/"
        },
        "id": "RqhKs5A5OjjC",
        "outputId": "0fe26113-11c8-4ed4-fdaa-fd6c30e2436c"
      },
      "execution_count": 5,
      "outputs": [
        {
          "output_type": "stream",
          "name": "stdout",
          "text": [
            "1\n",
            "64\n",
            "27\n",
            "125\n",
            "Function used in partial function pow2 : <function power at 0x7f9bebe4bbe0>\n",
            "Default keywords for pow2 : {'b': 3}\n",
            "Default arguments for power_of_5 : (5,)\n"
          ]
        }
      ]
    },
    {
      "cell_type": "markdown",
      "source": [
        "***Partialmethod class***\n",
        "\n",
        "It is a method definition of an already defined function for specific arguments like a partial function. However, it is not callable but is only a method descriptor. It returns a new partialmethod descriptor."
      ],
      "metadata": {
        "id": "CKFMOsz-R4SJ"
      }
    },
    {
      "cell_type": "code",
      "source": [
        "from functools import partialmethod\n",
        "\n",
        "class Demo:\n",
        "\tdef __init__(self):\n",
        "\t\tself.color = 'PINK'\n",
        "\n",
        "\tdef _color(self, type):\n",
        "\t\tself.color = type\n",
        "\n",
        "\tset_red = partialmethod(_color, type='red')\n",
        "\tset_blue = partialmethod(_color, type='blue')\n",
        "\tset_green = partialmethod(_color, type='green')\n",
        "\n",
        "\n",
        "obj = Demo()\n",
        "print(obj.color)\n",
        "\n",
        "obj.set_blue()\n",
        "print(obj.color)\n",
        "\n",
        "obj.set_red()\n",
        "print(obj.color)\n",
        "\n",
        "obj.set_green()\n",
        "print(obj.color)"
      ],
      "metadata": {
        "colab": {
          "base_uri": "https://localhost:8080/"
        },
        "id": "KsXwWyBvSOTA",
        "outputId": "fdec3328-9913-4467-82c9-7e16a5b72a48"
      },
      "execution_count": 3,
      "outputs": [
        {
          "output_type": "stream",
          "name": "stdout",
          "text": [
            "PINK\n",
            "blue\n",
            "red\n",
            "green\n"
          ]
        }
      ]
    },
    {
      "cell_type": "markdown",
      "source": [
        "# ***Functions***\n",
        "\n",
        "1. ***Cmp_to_key***  : It converts a comparison function into a key function.\n",
        "The comparison function must return 1, -1 and 0 for different conditions.\n",
        "It can be used in key functions such as sorted(), min(), max().\n",
        "\n",
        "Syntax:\n",
        "\n",
        "function(iterable, key=cmp_to_key(cmp_function))"
      ],
      "metadata": {
        "id": "WteHYWZw3Px7"
      }
    },
    {
      "cell_type": "code",
      "source": [
        "from functools import cmp_to_key\n",
        "\n",
        "# function to sort according to last character\n",
        "def cmp_fun(a, b):\n",
        "\tif a[-1] > b[-1]:\n",
        "\t\treturn 1\n",
        "\telif a[-1] < b[-1]:\n",
        "\t\treturn -1\n",
        "\telse:\n",
        "\t\treturn 0\n",
        "\n",
        "list1 = ['A', 'Y', 'Z']\n",
        "l = sorted(list1, key = cmp_to_key(cmp_fun))\n",
        "print('sorted list :', l)\n"
      ],
      "metadata": {
        "colab": {
          "base_uri": "https://localhost:8080/"
        },
        "id": "jhsOJhRl3O2p",
        "outputId": "c9bfa51b-bd66-4c4e-cfb3-7a16e77d5679"
      },
      "execution_count": 6,
      "outputs": [
        {
          "output_type": "stream",
          "name": "stdout",
          "text": [
            "sorted list : ['A', 'Y', 'Z']\n"
          ]
        }
      ]
    },
    {
      "cell_type": "markdown",
      "source": [
        "2. ## ***Reduce*** : It applies a function of two arguments repeatedly on the elements of a sequence so as to reduce the sequence to a single value.\n",
        "\n",
        "For example, reduce(lambda x, y : x^y, [1, 2, 3, 4])\n",
        "\n",
        "*** calculates (((1^2)^3)^4).***\n",
        "\n",
        "If the initial is present, it is placed first in the calculation, and the default result is when the sequence is empty.\n",
        "\n",
        "Syntax:\n",
        "\n",
        "reduce(function, sequence[, initial]) -> value  "
      ],
      "metadata": {
        "id": "vtrxnjqt4Ds-"
      }
    },
    {
      "cell_type": "code",
      "source": [
        "from functools import reduce\n",
        "list1 = [2, 4, 7, 9, 1, 3]\n",
        "sum_of_list1 = reduce(lambda a, b:a + b, list1)\n",
        "\n",
        "list2 = [\"abc\", \"AKS\", \"def\"]\n",
        "max_of_list2 = reduce(lambda a, b:a if a>b else b, list2)\n",
        "\n",
        "print('Sum of list1 :', sum_of_list1)\n",
        "print('Maximum of list2 :', max_of_list2)\n"
      ],
      "metadata": {
        "colab": {
          "base_uri": "https://localhost:8080/"
        },
        "id": "6-YCJdJH5uts",
        "outputId": "cea7654f-3f36-4e56-add5-8f6dd8c70c12"
      },
      "execution_count": 9,
      "outputs": [
        {
          "output_type": "stream",
          "name": "stdout",
          "text": [
            "Sum of list1 : 26\n",
            "Maximum of list2 : def\n"
          ]
        }
      ]
    },
    {
      "cell_type": "markdown",
      "source": [
        "3. ***Total_ordering :***\n",
        "\n",
        "It is a class decorator that fills in the missing comparison methods (__lt__, __gt__, __eq__, __le__, __ge__). If a class is given which defines one or more comparison methods, “@total_ordering” automatically supplies the rest as per the given definitions. However, the class must define one of __lt__(), __le__(), __gt__(), or __ge__() and additionally, the class should supply an __eq__() method."
      ],
      "metadata": {
        "id": "2FuW1SkK6if9"
      }
    },
    {
      "cell_type": "code",
      "source": [
        "from functools import total_ordering\n",
        "\n",
        "@total_ordering\n",
        "class N:\n",
        "\tdef __init__(self, value):\n",
        "\t\tself.value = value\n",
        "\tdef __eq__(self, other):\n",
        "\t\treturn self.value == other.value\n",
        "\n",
        "\t# Reverse the function of\n",
        "\t# '<' operator and accordingly\n",
        "\t# other rich comparison operators\n",
        "\t# due to total_ordering decorator\n",
        "\tdef __lt__(self, other):\n",
        "\t\treturn self.value > other.value\n",
        "\n",
        "\n",
        "print('6 > 2 :', N(6)>N(2))\n",
        "print('3 < 1 :', N(3)<N(1))\n",
        "print('2 <= 7 :', N(5)<= N(7))\n",
        "print('9 >= 10 :', N(9)>= N(10))\n",
        "print('5 == 5 :', N(5)== N(5))\n"
      ],
      "metadata": {
        "colab": {
          "base_uri": "https://localhost:8080/"
        },
        "id": "9YOPOG-m64AJ",
        "outputId": "48304ff9-1759-42e2-a1ab-ce9067bda6d7"
      },
      "execution_count": 13,
      "outputs": [
        {
          "output_type": "stream",
          "name": "stdout",
          "text": [
            "6 > 2 : False\n",
            "3 < 1 : True\n",
            "2 <= 7 : False\n",
            "9 >= 10 : True\n",
            "5 == 5 : True\n"
          ]
        }
      ]
    },
    {
      "cell_type": "markdown",
      "source": [
        "# ***asyncio in Python***\n",
        "\n",
        "***Asyncio is a Python library that is used for concurrent programming. It is not multi-threading or multi-processing. Asyncio is used as a foundation for multiple Python asynchronous frameworks that provide high-performance network and web servers, database connection libraries, distributed task queues, etc.***"
      ],
      "metadata": {
        "id": "QwuqfIMF5XMW"
      }
    },
    {
      "cell_type": "markdown",
      "source": [
        "# ***Difference between Asynchronous and multi-threading programming ***\n",
        "\n",
        "**Asynchronous programming basically means that only one part of a program will run at a certain time.**\n",
        "\n",
        "For example, suppose we have 3 functions defined in our Python program. Consider a situation when fn1() is not doing anything, it is either asleep or just waiting or has returned a value (done its work).\n",
        "So, to save the CPU time, the other function (fn2()) will start executing and then only the third function (fn3()) will execute. This is the concept of Asynchronous programming (one thing is done at one time)\n",
        "\n",
        "***whereas, in multi-threading or multi-processing, all these three functions will run at the same time, they won’t wait for the previous function to finish or sleep***.\n",
        "\n",
        "Note that only specific functions are made asynchronous, not the whole program this is done with the help of the Asyncio Python library."
      ],
      "metadata": {
        "id": "IUb_0FDl7bm3"
      }
    },
    {
      "cell_type": "markdown",
      "source": [
        "To achieve this, an async keyword is used.\n",
        "\n",
        "The program will wait for 1 second after it the first print statement is executed and then print the next print statement and so on.\n",
        "\n",
        "Note that we’ll make it sleep (or wait) with the help of await asyncio.sleep(1) keyword, not with time.sleep().\n",
        "\n",
        " To run the program, we’ll have to use the run() function as it is given below."
      ],
      "metadata": {
        "id": "2A8frxAh9HZS"
      }
    }
  ]
}